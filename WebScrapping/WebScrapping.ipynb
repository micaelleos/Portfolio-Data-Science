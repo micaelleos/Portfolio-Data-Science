{
  "cells": [
    {
      "cell_type": "markdown",
      "metadata": {
        "id": "25wEKY1iuIUH"
      },
      "source": [
        "## Scrapping Dados de Alugueis da Internet"
      ]
    },
    {
      "cell_type": "markdown",
      "metadata": {
        "id": "QWzJ7BCruOe2"
      },
      "source": [
        "Analisando o trafego de rede de um site de anúncios de venda e alugel de imóveis, foi verificado que existe uma api pública que alimenta as entradas do site. \n",
        "\n",
        "Aproveitando esta API, dados de imóveis em São Paulo foram retirados do site de anúncios de imóveis para alugar com o intúito de construir um dataset."
      ]
    },
    {
      "cell_type": "code",
      "execution_count": 1,
      "metadata": {
        "id": "Hv8Cb-dGtqEg"
      },
      "outputs": [],
      "source": [
        "#Importação de Bibliotecas\n",
        "import pandas as pd\n",
        "import requests"
      ]
    },
    {
      "cell_type": "code",
      "execution_count": 2,
      "metadata": {
        "id": "GMXC8G4auC0z"
      },
      "outputs": [],
      "source": [
        "#Testando API \n",
        "headers = {\n",
        "    'User-Agent': 'Mozilla/5.0 (Windows NT 10.0; Win64; x64; rv:107.0) Gecko/20100101 Firefox/107.0',\n",
        "    'Accept': 'application/json, text/javascript, */*; q=0.01',\n",
        "    'Accept-Language': 'pt-BR,pt;q=0.8,en-US;q=0.5,en;q=0.3',\n",
        "    # 'Accept-Encoding': 'gzip, deflate, br',\n",
        "    'x-domain': 'www.vivareal.com.br',\n",
        "    'Origin': 'https://www.vivareal.com.br',\n",
        "    'Connection': 'keep-alive',\n",
        "    'Referer': 'https://www.vivareal.com.br/',\n",
        "    'Sec-Fetch-Dest': 'empty',\n",
        "    'Sec-Fetch-Mode': 'cors',\n",
        "    'Sec-Fetch-Site': 'cross-site',\n",
        "    # Requests doesn't support trailers\n",
        "    # 'TE': 'trailers',\n",
        "}\n",
        "\n",
        "response = requests.get('https://glue-api.vivareal.com/v2/listings?addressCity=S%C3%A3o%20Paulo&addressLocationId=BR%3ESao%20Paulo%3ENULL%3ESao%20Paulo&addressNeighborhood=&addressState=S%C3%A3o%20Paulo&addressCountry=Brasil&addressStreet=&addressZone=&addressPointLat=-23.555771&addressPointLon=-46.639557&business=RENTAL&facets=amenities&unitTypes=APARTMENT&unitSubTypes=UnitSubType_NONE%2CDUPLEX%2CLOFT%2CSTUDIO%2CTRIPLEX&unitTypesV3=APARTMENT&usageTypes=RESIDENTIAL&listingType=USED&parentId=null&categoryPage=RESULT&includeFields=search(result(listings(listing(displayAddressType%2Camenities%2CusableAreas%2CconstructionStatus%2ClistingType%2Cdescription%2Ctitle%2CunitTypes%2CnonActivationReason%2CpropertyType%2CunitSubTypes%2Cid%2Cportal%2CparkingSpaces%2Caddress%2Csuites%2CpublicationType%2CexternalId%2Cbathrooms%2CusageTypes%2CtotalAreas%2CadvertiserId%2Cbedrooms%2CpricingInfos%2CshowPrice%2Cstatus%2CadvertiserContact%2CvideoTourLink%2CwhatsappNumber%2Cstamps)%2Caccount(id%2Cname%2ClogoUrl%2ClicenseNumber%2CshowAddress%2ClegacyVivarealId%2Cphones)%2Cmedias%2CaccountLink%2Clink))%2CtotalCount)%2Cpage%2CseasonalCampaigns%2CfullUriFragments%2Cnearby(search(result(listings(listing(displayAddressType%2Camenities%2CusableAreas%2CconstructionStatus%2ClistingType%2Cdescription%2Ctitle%2CunitTypes%2CnonActivationReason%2CpropertyType%2CunitSubTypes%2Cid%2Cportal%2CparkingSpaces%2Caddress%2Csuites%2CpublicationType%2CexternalId%2Cbathrooms%2CusageTypes%2CtotalAreas%2CadvertiserId%2Cbedrooms%2CpricingInfos%2CshowPrice%2Cstatus%2CadvertiserContact%2CvideoTourLink%2CwhatsappNumber%2Cstamps)%2Caccount(id%2Cname%2ClogoUrl%2ClicenseNumber%2CshowAddress%2ClegacyVivarealId%2Cphones)%2Cmedias%2CaccountLink%2Clink))%2CtotalCount))%2Cexpansion(search(result(listings(listing(displayAddressType%2Camenities%2CusableAreas%2CconstructionStatus%2ClistingType%2Cdescription%2Ctitle%2CunitTypes%2CnonActivationReason%2CpropertyType%2CunitSubTypes%2Cid%2Cportal%2CparkingSpaces%2Caddress%2Csuites%2CpublicationType%2CexternalId%2Cbathrooms%2CusageTypes%2CtotalAreas%2CadvertiserId%2Cbedrooms%2CpricingInfos%2CshowPrice%2Cstatus%2CadvertiserContact%2CvideoTourLink%2CwhatsappNumber%2Cstamps)%2Caccount(id%2Cname%2ClogoUrl%2ClicenseNumber%2CshowAddress%2ClegacyVivarealId%2Cphones)%2Cmedias%2CaccountLink%2Clink))%2CtotalCount))%2Caccount(id%2Cname%2ClogoUrl%2ClicenseNumber%2CshowAddress%2ClegacyVivarealId%2Cphones%2Cphones)%2Cowners(search(result(listings(listing(displayAddressType%2Camenities%2CusableAreas%2CconstructionStatus%2ClistingType%2Cdescription%2Ctitle%2CunitTypes%2CnonActivationReason%2CpropertyType%2CunitSubTypes%2Cid%2Cportal%2CparkingSpaces%2Caddress%2Csuites%2CpublicationType%2CexternalId%2Cbathrooms%2CusageTypes%2CtotalAreas%2CadvertiserId%2Cbedrooms%2CpricingInfos%2CshowPrice%2Cstatus%2CadvertiserContact%2CvideoTourLink%2CwhatsappNumber%2Cstamps)%2Caccount(id%2Cname%2ClogoUrl%2ClicenseNumber%2CshowAddress%2ClegacyVivarealId%2Cphones)%2Cmedias%2CaccountLink%2Clink))%2CtotalCount))&size=2&from=36&q=&developmentsSize=5&__vt=&levels=CITY%2CUNIT_TYPE&ref=&pointRadius=&isPOIQuery=', headers=headers)"
      ]
    },
    {
      "cell_type": "code",
      "execution_count": 3,
      "metadata": {
        "colab": {
          "base_uri": "https://localhost:8080/"
        },
        "id": "gqoxwq2czeie",
        "outputId": "2852fc6d-564d-474d-bab2-531e9df89c65"
      },
      "outputs": [
        {
          "name": "stdout",
          "output_type": "stream",
          "text": [
            "Status de resposta: 200\n"
          ]
        }
      ],
      "source": [
        "print('Status de resposta:', response.status_code)"
      ]
    },
    {
      "cell_type": "markdown",
      "metadata": {
        "id": "2-R6Tkqtumyx"
      },
      "source": [
        "## Informações do Request"
      ]
    },
    {
      "cell_type": "code",
      "execution_count": 4,
      "metadata": {
        "colab": {
          "base_uri": "https://localhost:8080/"
        },
        "id": "SOqw9A4Cuyzn",
        "outputId": "e1d2491c-c753-44bc-94ca-ae6d08fb4411"
      },
      "outputs": [
        {
          "data": {
            "text/plain": [
              "dict_keys(['search', 'page', 'seasonalCampaigns', 'fullUriFragments', 'account'])"
            ]
          },
          "execution_count": 4,
          "metadata": {},
          "output_type": "execute_result"
        }
      ],
      "source": [
        "data_json = response.json()\n",
        "data_json.keys()"
      ]
    },
    {
      "cell_type": "code",
      "execution_count": 5,
      "metadata": {
        "colab": {
          "base_uri": "https://localhost:8080/"
        },
        "id": "KDa1KFEsvJz1",
        "outputId": "5114cf5a-925f-4c4b-916b-5ac6bad4c7c0"
      },
      "outputs": [
        {
          "name": "stdout",
          "output_type": "stream",
          "text": [
            "Tipo de dado: <class 'dict'>\n",
            "Tamanho do dado: 5\n",
            "Chaves: dict_keys(['search', 'page', 'seasonalCampaigns', 'fullUriFragments', 'account'])\n"
          ]
        }
      ],
      "source": [
        "print('Tipo de dado:',type(data_json))\n",
        "print('Tamanho do dado:',len(data_json))\n",
        "print('Chaves:',data_json.keys())"
      ]
    },
    {
      "cell_type": "code",
      "execution_count": 6,
      "metadata": {
        "colab": {
          "base_uri": "https://localhost:8080/"
        },
        "id": "UPOD9lQzvMCr",
        "outputId": "20a4e1ce-c83b-4d37-d507-69fb39b94bfe"
      },
      "outputs": [
        {
          "data": {
            "text/plain": [
              "dict_keys(['result', 'totalCount'])"
            ]
          },
          "execution_count": 6,
          "metadata": {},
          "output_type": "execute_result"
        }
      ],
      "source": [
        "data_json['search'].keys()"
      ]
    },
    {
      "cell_type": "code",
      "execution_count": 7,
      "metadata": {
        "colab": {
          "base_uri": "https://localhost:8080/"
        },
        "id": "qypNCYdXvmVz",
        "outputId": "141a4b4a-c074-4a4c-df1a-81f25f58af58"
      },
      "outputs": [
        {
          "data": {
            "text/plain": [
              "133158"
            ]
          },
          "execution_count": 7,
          "metadata": {},
          "output_type": "execute_result"
        }
      ],
      "source": [
        "#Quantidade de entradas para essa busca\n",
        "total_entradas = data_json['search']['totalCount']\n",
        "total_entradas"
      ]
    },
    {
      "cell_type": "code",
      "execution_count": 8,
      "metadata": {
        "colab": {
          "base_uri": "https://localhost:8080/"
        },
        "id": "Sv0jUwIwLJ6v",
        "outputId": "957a14a6-d512-46ff-e5bc-ebf1c04d1e46"
      },
      "outputs": [
        {
          "name": "stdout",
          "output_type": "stream",
          "text": [
            "Quantidade de imoveis: 2\n"
          ]
        }
      ],
      "source": [
        "print('Quantidade de imoveis:',len(data_json['search']['result']['listings']))"
      ]
    },
    {
      "cell_type": "code",
      "execution_count": 9,
      "metadata": {
        "id": "cHo3VDy2Lkc0"
      },
      "outputs": [],
      "source": [
        "dados_imoveis = data_json['search']['result']['listings'] # lista de dados de imóveis"
      ]
    },
    {
      "cell_type": "code",
      "execution_count": 10,
      "metadata": {
        "colab": {
          "base_uri": "https://localhost:8080/"
        },
        "id": "4UvQgN9f95rL",
        "outputId": "fa5d5649-d94d-43c4-893b-cb999e483923"
      },
      "outputs": [
        {
          "data": {
            "text/plain": [
              "dict_keys(['listing', 'account', 'medias', 'accountLink', 'link'])"
            ]
          },
          "execution_count": 10,
          "metadata": {},
          "output_type": "execute_result"
        }
      ],
      "source": [
        "dados_imoveis[0].keys()"
      ]
    },
    {
      "cell_type": "code",
      "execution_count": 11,
      "metadata": {
        "colab": {
          "base_uri": "https://localhost:8080/"
        },
        "id": "cR_sO8i2KjEX",
        "outputId": "98e017bb-9539-47d3-e606-9856dbf83ee4"
      },
      "outputs": [
        {
          "name": "stdout",
          "output_type": "stream",
          "text": [
            "Quantidade de parâmetros por imóvel: 30\n"
          ]
        }
      ],
      "source": [
        "print('Quantidade de parâmetros por imóvel:',len(dados_imoveis[0]['listing']))"
      ]
    },
    {
      "cell_type": "code",
      "execution_count": 12,
      "metadata": {
        "colab": {
          "base_uri": "https://localhost:8080/"
        },
        "id": "_sk6hf5-LFeB",
        "outputId": "b3718b50-d35b-4eab-e189-4bccb11b2db2"
      },
      "outputs": [
        {
          "data": {
            "text/plain": [
              "['displayAddressType',\n",
              " 'amenities',\n",
              " 'usableAreas',\n",
              " 'constructionStatus',\n",
              " 'listingType',\n",
              " 'description',\n",
              " 'title',\n",
              " 'unitTypes',\n",
              " 'nonActivationReason',\n",
              " 'propertyType',\n",
              " 'unitSubTypes',\n",
              " 'id',\n",
              " 'portal',\n",
              " 'parkingSpaces',\n",
              " 'address',\n",
              " 'suites',\n",
              " 'publicationType',\n",
              " 'externalId',\n",
              " 'bathrooms',\n",
              " 'usageTypes',\n",
              " 'totalAreas',\n",
              " 'advertiserId',\n",
              " 'bedrooms',\n",
              " 'pricingInfos',\n",
              " 'showPrice',\n",
              " 'status',\n",
              " 'advertiserContact',\n",
              " 'videoTourLink',\n",
              " 'whatsappNumber',\n",
              " 'stamps']"
            ]
          },
          "execution_count": 12,
          "metadata": {},
          "output_type": "execute_result"
        }
      ],
      "source": [
        "# lista de parâmetros\n",
        "chaves = list(dados_imoveis[0]['listing'].keys())\n",
        "chaves"
      ]
    },
    {
      "cell_type": "code",
      "execution_count": 13,
      "metadata": {
        "colab": {
          "base_uri": "https://localhost:8080/"
        },
        "id": "JB6eJ4HjM8rk",
        "outputId": "b07c21bd-6a10-4272-deda-dc3077a4efc3"
      },
      "outputs": [
        {
          "name": "stdout",
          "output_type": "stream",
          "text": [
            " 'displayAddressType': ALL\n",
            " 'amenities': ['ELECTRONIC_GATE', 'BUILTIN_WARDROBE']\n",
            " 'usableAreas': ['25']\n",
            " 'constructionStatus': ConstructionStatus_NONE\n",
            " 'listingType': USED\n",
            " 'description': Apartamento tipo kitnet, próximo ao Parque da Aclimação e metro São Joaquim. Condomínio incluso! Arm.embutido, wi-fi cortesia, pia em granito, porta balcão em aluminio, solarium no terraço com duchas, porteiro eletrônico, ambiente familiar, individual.\n",
            " 'title': Kitnet 25 m2, 950,00 com condomínio incluído\n",
            " 'unitTypes': ['APARTMENT']\n",
            " 'nonActivationReason': NonActivationReason_NONE\n",
            " 'propertyType': UNIT\n",
            " 'unitSubTypes': []\n",
            " 'id': 2487590395\n",
            " 'portal': GRUPOZAP\n",
            " 'parkingSpaces': []\n",
            " 'address': {'country': 'BR', 'zipCode': '01527000', 'geoJson': '', 'city': 'São Paulo', 'streetNumber': '64', 'level': 'STREET', 'precision': 'ROOFTOP', 'confidence': 'VALID_STREET', 'stateAcronym': 'SP', 'source': 'CORREIOS', 'point': {'lon': -46.626368, 'source': 'GOOGLE', 'lat': -23.562162}, 'ibgeCityId': '', 'zone': 'Centro', 'street': 'Rua Scuvero', 'locationId': 'BR>Sao Paulo>NULL>Sao Paulo>Zona Sul>Cambuci', 'district': '', 'name': '', 'state': 'São Paulo', 'neighborhood': 'Cambuci', 'poisList': ['BS:Parada Scuvero', 'BS:Rua Mazzini, 61', 'BS:Rua Diogo Vaz, 108', 'BS:Rua Scuvero, 195', 'BS:R. Do Lavapés, 726', 'TS:Parada Scuvero', 'TS:Rua Mazzini, 61', 'TS:Rua Scuvero, 195', 'TS:R. Do Lavapés, 726', 'TS:Rua do Lavapés, 726', 'CS:Luiz Gama', 'CS:Orquídea Palace', 'CS:Ipanema prime', 'CS:Big bread', 'CS:Padaria Famalicense', 'PH:Drogaria Xavier Molina', 'PH:Aclima Farma', 'PH:Drogasian', 'PH:Poupa Mais', 'PH:Rede Farma Mil'], 'pois': [], 'valuableZones': [{'city': 'São Paulo', 'zone': 'Zona Sul', 'name': 'Aclimação', 'id': '', 'state': 'São Paulo', 'category': 'DISTRICT'}]}\n",
            " 'suites': []\n",
            " 'publicationType': PREMIUM\n",
            " 'externalId': RQKAELM2\n",
            " 'bathrooms': [1]\n",
            " 'usageTypes': ['RESIDENTIAL']\n",
            " 'totalAreas': []\n",
            " 'advertiserId': e9056dcc-074e-0f4e-4fcc-e50f3bd983f7\n",
            " 'bedrooms': [1]\n",
            " 'pricingInfos': [{'rentalInfo': {'period': 'MONTHLY', 'warranties': [], 'monthlyRentalTotalPrice': '950'}, 'price': '950', 'businessType': 'RENTAL'}]\n",
            " 'showPrice': True\n",
            " 'status': ACTIVE\n",
            " 'advertiserContact': {'phones': ['11984422233']}\n",
            " 'videoTourLink': \n",
            " 'whatsappNumber': 11984422233\n",
            " 'stamps': []\n"
          ]
        }
      ],
      "source": [
        "for n in chaves:\n",
        "  info = dados_imoveis[1]['listing'][n]\n",
        "  print(f\" '{n}': {info}\")"
      ]
    },
    {
      "cell_type": "code",
      "execution_count": 14,
      "metadata": {
        "id": "x7W20xZyN52R"
      },
      "outputs": [],
      "source": [
        "variaveis = ['id','amenities', 'usableAreas','listingType','description','unitTypes','parkingSpaces','address','suites','bathrooms','usageTypes','bedrooms','pricingInfos','showPrice']"
      ]
    },
    {
      "cell_type": "markdown",
      "metadata": {
        "id": "M461PVB1RNPj"
      },
      "source": [
        "#### Funções Auxiliares"
      ]
    },
    {
      "cell_type": "code",
      "execution_count": 15,
      "metadata": {
        "id": "u7PsEMsFQxwt"
      },
      "outputs": [],
      "source": [
        "def filtra_dados(dicionario,variaveis)->dict:\n",
        "  '''Filtra dados do dicionário do imóvel de acordo com as chaves em variáveis'''\n",
        "  new_dict = {}\n",
        "  for val in variaveis:\n",
        "    new_dict[val] = dicionario[val]\n",
        "  return new_dict\n",
        "\n",
        "def listar_imoveis(resposta,variaveis) -> list:\n",
        "  '''Seleciona dados de imóveis na requisição segundo as variáveis'''\n",
        "  resposta = resposta.json()\n",
        "  dados_imoveis = resposta['search']['result']['listings'] # lista de dados de imóveis\n",
        "  lista_imovel = []\n",
        "  for i in range(len(dados_imoveis)):\n",
        "    selecao = filtra_dados(dados_imoveis[i]['listing'],variaveis)\n",
        "    lista_imovel.append(selecao)\n",
        "  return lista_imovel\n"
      ]
    },
    {
      "cell_type": "markdown",
      "metadata": {
        "id": "C7ONgZAy2qeQ"
      },
      "source": [
        "## Preparando o Header"
      ]
    },
    {
      "cell_type": "code",
      "execution_count": 17,
      "metadata": {
        "id": "Wdp1upjN2r3J"
      },
      "outputs": [],
      "source": [
        "#Organizando os parâmetros do Header\n",
        "url_base = 'https://glue-api.vivareal.com/v2/listings?'\n",
        "url_filters = 'addressCity=S%C3%A3o%20Paulo&addressLocationId=BR%3ESao%20Paulo%3ENULL%3ESao%20Paulo&addressNeighborhood=&addressState=S%C3%A3o%20Paulo&addressCountry=Brasil&addressStreet=&addressZone=&addressPointLat=-23.555771&addressPointLon=-46.639557&business=RENTAL&facets=amenities&unitTypes=APARTMENT&unitSubTypes=UnitSubType_NONE%2CDUPLEX%2CLOFT%2CSTUDIO%2CTRIPLEX&unitTypesV3=APARTMENT&usageTypes=RESIDENTIAL&listingType=USED&parentId=null&categoryPage=RESULT&includeFields=search(result(listings(listing(displayAddressType%2Camenities%2CusableAreas%2CconstructionStatus%2ClistingType%2Cdescription%2Ctitle%2CunitTypes%2CnonActivationReason%2CpropertyType%2CunitSubTypes%2Cid%2Cportal%2CparkingSpaces%2Caddress%2Csuites%2CpublicationType%2CexternalId%2Cbathrooms%2CusageTypes%2CtotalAreas%2CadvertiserId%2Cbedrooms%2CpricingInfos%2CshowPrice%2Cstatus%2CadvertiserContact%2CvideoTourLink%2CwhatsappNumber%2Cstamps)%2Caccount(id%2Cname%2ClogoUrl%2ClicenseNumber%2CshowAddress%2ClegacyVivarealId%2Cphones)%2Cmedias%2CaccountLink%2Clink))%2CtotalCount)%2Cpage%2CseasonalCampaigns%2CfullUriFragments%2Cnearby(search(result(listings(listing(displayAddressType%2Camenities%2CusableAreas%2CconstructionStatus%2ClistingType%2Cdescription%2Ctitle%2CunitTypes%2CnonActivationReason%2CpropertyType%2CunitSubTypes%2Cid%2Cportal%2CparkingSpaces%2Caddress%2Csuites%2CpublicationType%2CexternalId%2Cbathrooms%2CusageTypes%2CtotalAreas%2CadvertiserId%2Cbedrooms%2CpricingInfos%2CshowPrice%2Cstatus%2CadvertiserContact%2CvideoTourLink%2CwhatsappNumber%2Cstamps)%2Caccount(id%2Cname%2ClogoUrl%2ClicenseNumber%2CshowAddress%2ClegacyVivarealId%2Cphones)%2Cmedias%2CaccountLink%2Clink))%2CtotalCount))%2Cexpansion(search(result(listings(listing(displayAddressType%2Camenities%2CusableAreas%2CconstructionStatus%2ClistingType%2Cdescription%2Ctitle%2CunitTypes%2CnonActivationReason%2CpropertyType%2CunitSubTypes%2Cid%2Cportal%2CparkingSpaces%2Caddress%2Csuites%2CpublicationType%2CexternalId%2Cbathrooms%2CusageTypes%2CtotalAreas%2CadvertiserId%2Cbedrooms%2CpricingInfos%2CshowPrice%2Cstatus%2CadvertiserContact%2CvideoTourLink%2CwhatsappNumber%2Cstamps)%2Caccount(id%2Cname%2ClogoUrl%2ClicenseNumber%2CshowAddress%2ClegacyVivarealId%2Cphones)%2Cmedias%2CaccountLink%2Clink))%2CtotalCount))%2Caccount(id%2Cname%2ClogoUrl%2ClicenseNumber%2CshowAddress%2ClegacyVivarealId%2Cphones%2Cphones)%2Cowners(search(result(listings(listing(displayAddressType%2Camenities%2CusableAreas%2CconstructionStatus%2ClistingType%2Cdescription%2Ctitle%2CunitTypes%2CnonActivationReason%2CpropertyType%2CunitSubTypes%2Cid%2Cportal%2CparkingSpaces%2Caddress%2Csuites%2CpublicationType%2CexternalId%2Cbathrooms%2CusageTypes%2CtotalAreas%2CadvertiserId%2Cbedrooms%2CpricingInfos%2CshowPrice%2Cstatus%2CadvertiserContact%2CvideoTourLink%2CwhatsappNumber%2Cstamps)%2Caccount(id%2Cname%2ClogoUrl%2ClicenseNumber%2CshowAddress%2ClegacyVivarealId%2Cphones)%2Cmedias%2CaccountLink%2Clink))%2CtotalCount))&size=1&from=8000&q=&developmentsSize=5&__vt=&levels=CITY%2CUNIT_TYPE&ref=&pointRadius=&isPOIQuery='\n",
        "filters = url_filters.split('&')"
      ]
    },
    {
      "cell_type": "markdown",
      "metadata": {
        "id": "8LVCTRJDfzHD"
      },
      "source": [
        "#### Funções Auxiliares"
      ]
    },
    {
      "cell_type": "code",
      "execution_count": 18,
      "metadata": {
        "id": "yjeGQZz03K0_"
      },
      "outputs": [],
      "source": [
        "def list_to_dict(lista_filtro:list) -> dict:\n",
        "  dict_filtro = {}\n",
        "  var=[]\n",
        "  for filtro in lista_filtro:\n",
        "    var = filtro.split('=')\n",
        "    dict_filtro[var[0]] = var[1]\n",
        "  return dict_filtro\n",
        "\n",
        "def dict_to_url(dicionario:dict) -> str:\n",
        "  '''Conversor de dicionário de parâmetro da requisição em url'''\n",
        "  lista_filtro = []\n",
        "  var = []\n",
        "  for chave,valor in dicionario.items():\n",
        "    lista_filtro.append(str(chave) + '=' + str(valor))\n",
        "  url = \"&\".join(lista_filtro)\n",
        "  return url\n",
        "\n",
        "filter_dict = list_to_dict(filters)\n",
        "#filter_dict['size'],filter_dict['from']"
      ]
    },
    {
      "cell_type": "code",
      "execution_count": 19,
      "metadata": {
        "id": "ABUXdxcXPoYX"
      },
      "outputs": [],
      "source": [
        "teste = dict_to_url(filter_dict)"
      ]
    },
    {
      "cell_type": "code",
      "execution_count": 20,
      "metadata": {
        "colab": {
          "base_uri": "https://localhost:8080/"
        },
        "id": "Yl0RpKNSPt2B",
        "outputId": "f708b547-726d-4417-d019-a07242178cf1"
      },
      "outputs": [
        {
          "data": {
            "text/plain": [
              "True"
            ]
          },
          "execution_count": 20,
          "metadata": {},
          "output_type": "execute_result"
        }
      ],
      "source": [
        "teste == url_filters"
      ]
    },
    {
      "cell_type": "markdown",
      "metadata": {
        "id": "4dNwddpe9OPZ"
      },
      "source": [
        "## Scrapping"
      ]
    },
    {
      "cell_type": "markdown",
      "metadata": {
        "id": "PV39wDO48528"
      },
      "source": [
        "Este API apenas permite o request de até 350 entradas por vez."
      ]
    },
    {
      "cell_type": "code",
      "execution_count": 22,
      "metadata": {
        "colab": {
          "base_uri": "https://localhost:8080/"
        },
        "id": "p83h3FHz9ItK",
        "outputId": "67ae74f0-6047-40ed-e983-c43685331e2a"
      },
      "outputs": [
        {
          "name": "stdout",
          "output_type": "stream",
          "text": [
            "Total de Batchs: 40\n",
            "Batch 0: status 200\n",
            "Batch 1: status 200\n",
            "Batch 2: status 200\n",
            "Batch 3: status 200\n",
            "Batch 4: status 200\n",
            "Batch 5: status 200\n",
            "Batch 6: status 200\n",
            "Batch 7: status 200\n",
            "Batch 8: status 200\n",
            "Batch 9: status 200\n",
            "Batch 10: status 200\n",
            "Batch 11: status 200\n",
            "Batch 12: status 200\n",
            "Batch 13: status 200\n",
            "Batch 14: status 200\n",
            "Batch 15: status 200\n",
            "Batch 16: status 200\n",
            "Batch 17: status 200\n",
            "Batch 18: status 200\n",
            "Batch 19: status 200\n",
            "Batch 20: status 200\n",
            "Batch 21: status 200\n",
            "Batch 22: status 200\n",
            "Batch 23: status 200\n",
            "Batch 24: status 200\n",
            "Batch 25: status 200\n",
            "Batch 26: status 200\n",
            "Batch 27: status 200\n",
            "Batch 28: status 200\n",
            "Batch 29: status 200\n",
            "Batch 30: status 200\n",
            "Batch 31: status 200\n",
            "Batch 32: status 200\n",
            "Batch 33: status 200\n",
            "Batch 34: status 200\n",
            "Batch 35: status 200\n",
            "Batch 36: status 200\n",
            "Batch 37: status 200\n",
            "Batch 38: status 200\n"
          ]
        }
      ],
      "source": [
        "total_imoveis = 10000\n",
        "batch_size = 250\n",
        "n_batch = int(total_imoveis / batch_size)\n",
        "\n",
        "dataset = []\n",
        "\n",
        "print('Total de Batchs:',n_batch)\n",
        "for i in range(n_batch-1):\n",
        "  filter_dict['size'] = batch_size\n",
        "  filter_dict['from'] = batch_size*(i+1)\n",
        "  new_url_filter = dict_to_url(filter_dict)\n",
        "  response = requests.get(url_base + new_url_filter, headers=headers)\n",
        "  print(f'Batch {i}: status {response.status_code}')    \n",
        "  dataset.extend(listar_imoveis(response,variaveis))\n"
      ]
    },
    {
      "cell_type": "code",
      "execution_count": 23,
      "metadata": {
        "colab": {
          "base_uri": "https://localhost:8080/",
          "height": 652
        },
        "id": "mNa9tf6JfT4N",
        "outputId": "b673ed8a-0b83-418f-91c0-6de2a43f7d15"
      },
      "outputs": [
        {
          "data": {
            "text/html": [
              "\n",
              "  <div id=\"df-56e6bc07-7566-4255-a9bc-ecb65d8998a1\">\n",
              "    <div class=\"colab-df-container\">\n",
              "      <div>\n",
              "<style scoped>\n",
              "    .dataframe tbody tr th:only-of-type {\n",
              "        vertical-align: middle;\n",
              "    }\n",
              "\n",
              "    .dataframe tbody tr th {\n",
              "        vertical-align: top;\n",
              "    }\n",
              "\n",
              "    .dataframe thead th {\n",
              "        text-align: right;\n",
              "    }\n",
              "</style>\n",
              "<table border=\"1\" class=\"dataframe\">\n",
              "  <thead>\n",
              "    <tr style=\"text-align: right;\">\n",
              "      <th></th>\n",
              "      <th>id</th>\n",
              "      <th>amenities</th>\n",
              "      <th>usableAreas</th>\n",
              "      <th>listingType</th>\n",
              "      <th>description</th>\n",
              "      <th>unitTypes</th>\n",
              "      <th>parkingSpaces</th>\n",
              "      <th>address</th>\n",
              "      <th>suites</th>\n",
              "      <th>bathrooms</th>\n",
              "      <th>usageTypes</th>\n",
              "      <th>bedrooms</th>\n",
              "      <th>pricingInfos</th>\n",
              "      <th>showPrice</th>\n",
              "    </tr>\n",
              "  </thead>\n",
              "  <tbody>\n",
              "    <tr>\n",
              "      <th>0</th>\n",
              "      <td>2580827822</td>\n",
              "      <td>[POOL, FURNISHED, ELEVATOR, GATED_COMMUNITY, G...</td>\n",
              "      <td>[157]</td>\n",
              "      <td>USED</td>\n",
              "      <td>O apartamento no bairro Vila Leopoldina tem 15...</td>\n",
              "      <td>[APARTMENT]</td>\n",
              "      <td>[2]</td>\n",
              "      <td>{'country': 'BR', 'zipCode': '05311000', 'geoJ...</td>\n",
              "      <td>[3]</td>\n",
              "      <td>[3]</td>\n",
              "      <td>[RESIDENTIAL]</td>\n",
              "      <td>[3]</td>\n",
              "      <td>[{'rentalInfo': {'period': 'MONTHLY', 'warrant...</td>\n",
              "      <td>True</td>\n",
              "    </tr>\n",
              "    <tr>\n",
              "      <th>1</th>\n",
              "      <td>2586005148</td>\n",
              "      <td>[]</td>\n",
              "      <td>[68]</td>\n",
              "      <td>USED</td>\n",
              "      <td>Ótimo apartamento 2 dorms com armários, banhei...</td>\n",
              "      <td>[APARTMENT]</td>\n",
              "      <td>[1]</td>\n",
              "      <td>{'country': 'BR', 'zipCode': '04105000', 'geoJ...</td>\n",
              "      <td>[0]</td>\n",
              "      <td>[2]</td>\n",
              "      <td>[RESIDENTIAL]</td>\n",
              "      <td>[2]</td>\n",
              "      <td>[{'rentalInfo': {'period': 'MONTHLY', 'warrant...</td>\n",
              "      <td>True</td>\n",
              "    </tr>\n",
              "    <tr>\n",
              "      <th>2</th>\n",
              "      <td>2591363145</td>\n",
              "      <td>[GARDEN, SERVICE_AREA, BICYCLES_PLACE, KITCHEN...</td>\n",
              "      <td>[90]</td>\n",
              "      <td>USED</td>\n",
              "      <td>O apartamento está localizado no bairro Pinhei...</td>\n",
              "      <td>[APARTMENT]</td>\n",
              "      <td>[0]</td>\n",
              "      <td>{'country': 'BR', 'zipCode': '05410002', 'geoJ...</td>\n",
              "      <td>[0]</td>\n",
              "      <td>[1]</td>\n",
              "      <td>[RESIDENTIAL]</td>\n",
              "      <td>[2]</td>\n",
              "      <td>[{'rentalInfo': {'period': 'MONTHLY', 'warrant...</td>\n",
              "      <td>True</td>\n",
              "    </tr>\n",
              "    <tr>\n",
              "      <th>3</th>\n",
              "      <td>2589626566</td>\n",
              "      <td>[PETS_ALLOWED]</td>\n",
              "      <td>[65]</td>\n",
              "      <td>USED</td>\n",
              "      <td>O apartamento no bairro Perdizes com 65 metros...</td>\n",
              "      <td>[APARTMENT]</td>\n",
              "      <td>[]</td>\n",
              "      <td>{'country': 'BR', 'zipCode': '05010000', 'geoJ...</td>\n",
              "      <td>[]</td>\n",
              "      <td>[1]</td>\n",
              "      <td>[RESIDENTIAL]</td>\n",
              "      <td>[2]</td>\n",
              "      <td>[{'rentalInfo': {'period': 'MONTHLY', 'warrant...</td>\n",
              "      <td>True</td>\n",
              "    </tr>\n",
              "    <tr>\n",
              "      <th>4</th>\n",
              "      <td>2591921273</td>\n",
              "      <td>[POOL, BARBECUE_GRILL, ELEVATOR, GATED_COMMUNI...</td>\n",
              "      <td>[60]</td>\n",
              "      <td>USED</td>\n",
              "      <td>Apartamento no Edifício Club Park Vila dos Rem...</td>\n",
              "      <td>[APARTMENT]</td>\n",
              "      <td>[1]</td>\n",
              "      <td>{'country': 'BR', 'zipCode': '05107002', 'geoJ...</td>\n",
              "      <td>[0]</td>\n",
              "      <td>[1]</td>\n",
              "      <td>[RESIDENTIAL]</td>\n",
              "      <td>[2]</td>\n",
              "      <td>[{'rentalInfo': {'period': 'MONTHLY', 'warrant...</td>\n",
              "      <td>True</td>\n",
              "    </tr>\n",
              "  </tbody>\n",
              "</table>\n",
              "</div>\n",
              "      <button class=\"colab-df-convert\" onclick=\"convertToInteractive('df-56e6bc07-7566-4255-a9bc-ecb65d8998a1')\"\n",
              "              title=\"Convert this dataframe to an interactive table.\"\n",
              "              style=\"display:none;\">\n",
              "        \n",
              "  <svg xmlns=\"http://www.w3.org/2000/svg\" height=\"24px\"viewBox=\"0 0 24 24\"\n",
              "       width=\"24px\">\n",
              "    <path d=\"M0 0h24v24H0V0z\" fill=\"none\"/>\n",
              "    <path d=\"M18.56 5.44l.94 2.06.94-2.06 2.06-.94-2.06-.94-.94-2.06-.94 2.06-2.06.94zm-11 1L8.5 8.5l.94-2.06 2.06-.94-2.06-.94L8.5 2.5l-.94 2.06-2.06.94zm10 10l.94 2.06.94-2.06 2.06-.94-2.06-.94-.94-2.06-.94 2.06-2.06.94z\"/><path d=\"M17.41 7.96l-1.37-1.37c-.4-.4-.92-.59-1.43-.59-.52 0-1.04.2-1.43.59L10.3 9.45l-7.72 7.72c-.78.78-.78 2.05 0 2.83L4 21.41c.39.39.9.59 1.41.59.51 0 1.02-.2 1.41-.59l7.78-7.78 2.81-2.81c.8-.78.8-2.07 0-2.86zM5.41 20L4 18.59l7.72-7.72 1.47 1.35L5.41 20z\"/>\n",
              "  </svg>\n",
              "      </button>\n",
              "      \n",
              "  <style>\n",
              "    .colab-df-container {\n",
              "      display:flex;\n",
              "      flex-wrap:wrap;\n",
              "      gap: 12px;\n",
              "    }\n",
              "\n",
              "    .colab-df-convert {\n",
              "      background-color: #E8F0FE;\n",
              "      border: none;\n",
              "      border-radius: 50%;\n",
              "      cursor: pointer;\n",
              "      display: none;\n",
              "      fill: #1967D2;\n",
              "      height: 32px;\n",
              "      padding: 0 0 0 0;\n",
              "      width: 32px;\n",
              "    }\n",
              "\n",
              "    .colab-df-convert:hover {\n",
              "      background-color: #E2EBFA;\n",
              "      box-shadow: 0px 1px 2px rgba(60, 64, 67, 0.3), 0px 1px 3px 1px rgba(60, 64, 67, 0.15);\n",
              "      fill: #174EA6;\n",
              "    }\n",
              "\n",
              "    [theme=dark] .colab-df-convert {\n",
              "      background-color: #3B4455;\n",
              "      fill: #D2E3FC;\n",
              "    }\n",
              "\n",
              "    [theme=dark] .colab-df-convert:hover {\n",
              "      background-color: #434B5C;\n",
              "      box-shadow: 0px 1px 3px 1px rgba(0, 0, 0, 0.15);\n",
              "      filter: drop-shadow(0px 1px 2px rgba(0, 0, 0, 0.3));\n",
              "      fill: #FFFFFF;\n",
              "    }\n",
              "  </style>\n",
              "\n",
              "      <script>\n",
              "        const buttonEl =\n",
              "          document.querySelector('#df-56e6bc07-7566-4255-a9bc-ecb65d8998a1 button.colab-df-convert');\n",
              "        buttonEl.style.display =\n",
              "          google.colab.kernel.accessAllowed ? 'block' : 'none';\n",
              "\n",
              "        async function convertToInteractive(key) {\n",
              "          const element = document.querySelector('#df-56e6bc07-7566-4255-a9bc-ecb65d8998a1');\n",
              "          const dataTable =\n",
              "            await google.colab.kernel.invokeFunction('convertToInteractive',\n",
              "                                                     [key], {});\n",
              "          if (!dataTable) return;\n",
              "\n",
              "          const docLinkHtml = 'Like what you see? Visit the ' +\n",
              "            '<a target=\"_blank\" href=https://colab.research.google.com/notebooks/data_table.ipynb>data table notebook</a>'\n",
              "            + ' to learn more about interactive tables.';\n",
              "          element.innerHTML = '';\n",
              "          dataTable['output_type'] = 'display_data';\n",
              "          await google.colab.output.renderOutput(dataTable, element);\n",
              "          const docLink = document.createElement('div');\n",
              "          docLink.innerHTML = docLinkHtml;\n",
              "          element.appendChild(docLink);\n",
              "        }\n",
              "      </script>\n",
              "    </div>\n",
              "  </div>\n",
              "  "
            ],
            "text/plain": [
              "           id                                          amenities usableAreas  \\\n",
              "0  2580827822  [POOL, FURNISHED, ELEVATOR, GATED_COMMUNITY, G...       [157]   \n",
              "1  2586005148                                                 []        [68]   \n",
              "2  2591363145  [GARDEN, SERVICE_AREA, BICYCLES_PLACE, KITCHEN...        [90]   \n",
              "3  2589626566                                     [PETS_ALLOWED]        [65]   \n",
              "4  2591921273  [POOL, BARBECUE_GRILL, ELEVATOR, GATED_COMMUNI...        [60]   \n",
              "\n",
              "  listingType                                        description    unitTypes  \\\n",
              "0        USED  O apartamento no bairro Vila Leopoldina tem 15...  [APARTMENT]   \n",
              "1        USED  Ótimo apartamento 2 dorms com armários, banhei...  [APARTMENT]   \n",
              "2        USED  O apartamento está localizado no bairro Pinhei...  [APARTMENT]   \n",
              "3        USED  O apartamento no bairro Perdizes com 65 metros...  [APARTMENT]   \n",
              "4        USED  Apartamento no Edifício Club Park Vila dos Rem...  [APARTMENT]   \n",
              "\n",
              "  parkingSpaces                                            address suites  \\\n",
              "0           [2]  {'country': 'BR', 'zipCode': '05311000', 'geoJ...    [3]   \n",
              "1           [1]  {'country': 'BR', 'zipCode': '04105000', 'geoJ...    [0]   \n",
              "2           [0]  {'country': 'BR', 'zipCode': '05410002', 'geoJ...    [0]   \n",
              "3            []  {'country': 'BR', 'zipCode': '05010000', 'geoJ...     []   \n",
              "4           [1]  {'country': 'BR', 'zipCode': '05107002', 'geoJ...    [0]   \n",
              "\n",
              "  bathrooms     usageTypes bedrooms  \\\n",
              "0       [3]  [RESIDENTIAL]      [3]   \n",
              "1       [2]  [RESIDENTIAL]      [2]   \n",
              "2       [1]  [RESIDENTIAL]      [2]   \n",
              "3       [1]  [RESIDENTIAL]      [2]   \n",
              "4       [1]  [RESIDENTIAL]      [2]   \n",
              "\n",
              "                                        pricingInfos  showPrice  \n",
              "0  [{'rentalInfo': {'period': 'MONTHLY', 'warrant...       True  \n",
              "1  [{'rentalInfo': {'period': 'MONTHLY', 'warrant...       True  \n",
              "2  [{'rentalInfo': {'period': 'MONTHLY', 'warrant...       True  \n",
              "3  [{'rentalInfo': {'period': 'MONTHLY', 'warrant...       True  \n",
              "4  [{'rentalInfo': {'period': 'MONTHLY', 'warrant...       True  "
            ]
          },
          "execution_count": 23,
          "metadata": {},
          "output_type": "execute_result"
        }
      ],
      "source": [
        "df_dataset = pd.DataFrame(dataset)\n",
        "df_dataset.head()"
      ]
    },
    {
      "cell_type": "code",
      "execution_count": 24,
      "metadata": {
        "colab": {
          "base_uri": "https://localhost:8080/"
        },
        "id": "vEp3lk6KjpSR",
        "outputId": "da8928e5-e583-4821-96af-65e1035049b6"
      },
      "outputs": [
        {
          "name": "stdout",
          "output_type": "stream",
          "text": [
            "Dimensãoes do daframe: (9750, 14)\n"
          ]
        }
      ],
      "source": [
        "print('Dimensãoes do daframe:',df_dataset.shape)"
      ]
    },
    {
      "cell_type": "code",
      "execution_count": 25,
      "metadata": {
        "colab": {
          "base_uri": "https://localhost:8080/"
        },
        "id": "quqvuZjpfWmj",
        "outputId": "991c544a-2304-4546-f434-9eb60e0e14fb"
      },
      "outputs": [
        {
          "name": "stdout",
          "output_type": "stream",
          "text": [
            "Existe imóveis duplicados? True\n"
          ]
        }
      ],
      "source": [
        "print(\"Existe imóveis duplicados?\",df_dataset['id'].duplicated().any())"
      ]
    },
    {
      "cell_type": "code",
      "execution_count": 26,
      "metadata": {
        "colab": {
          "base_uri": "https://localhost:8080/"
        },
        "id": "y-VslAofg1-X",
        "outputId": "ff2f8768-581b-45e9-96fc-8ba945d05109"
      },
      "outputs": [
        {
          "data": {
            "text/plain": [
              "id               object\n",
              "amenities        object\n",
              "usableAreas      object\n",
              "listingType      object\n",
              "description      object\n",
              "unitTypes        object\n",
              "parkingSpaces    object\n",
              "address          object\n",
              "suites           object\n",
              "bathrooms        object\n",
              "usageTypes       object\n",
              "bedrooms         object\n",
              "pricingInfos     object\n",
              "showPrice          bool\n",
              "dtype: object"
            ]
          },
          "execution_count": 26,
          "metadata": {},
          "output_type": "execute_result"
        }
      ],
      "source": [
        "df_dataset.dtypes"
      ]
    },
    {
      "cell_type": "code",
      "execution_count": 27,
      "metadata": {
        "id": "VjZG3750lvQb"
      },
      "outputs": [],
      "source": [
        "df_dataset.to_csv('imoveis_aluguel_SP.csv',index=False)"
      ]
    }
  ],
  "metadata": {
    "colab": {
      "provenance": []
    },
    "kernelspec": {
      "display_name": "Python 3",
      "name": "python3"
    },
    "language_info": {
      "name": "python"
    }
  },
  "nbformat": 4,
  "nbformat_minor": 0
}
